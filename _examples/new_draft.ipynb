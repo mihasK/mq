{
 "cells": [
  {
   "cell_type": "raw",
   "metadata": {
    "vscode": {
     "languageId": "raw"
    }
   },
   "source": [
    "---\n",
    "title: \"New Draft\"\n",
    "date: 2023-06-14\n",
    "categories: [draft,new]\n",
    "abstract: |\n",
    "  Several misconceptions presented,\n",
    "  including true ones\n",
    "\n",
    "draft: true\n",
    "#image: thumbnail.webp\n",
    "\n",
    "\n",
    "format: \n",
    "  html:\n",
    "    toc: true\n",
    "---\n"
   ]
  },
  {
   "cell_type": "markdown",
   "metadata": {
    "vscode": {
     "languageId": "raw"
    }
   },
   "source": [
    "Hello!"
   ]
  }
 ],
 "metadata": {
  "language_info": {
   "name": "python"
  }
 },
 "nbformat": 4,
 "nbformat_minor": 2
}
