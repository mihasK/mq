{
 "cells": [
  {
   "cell_type": "raw",
   "metadata": {
    "vscode": {
     "languageId": "raw"
    }
   },
   "source": [
    "---\n",
    "title: Compare pandas ignoring NAN\n",
    "date: 2023-06-14\n",
    "categories: [pandas, smalltips]\n",
    "draft: false\n",
    "execute:\n",
    "  #echo: fenced\n",
    "  warning: false\n",
    "format: \n",
    "  html:\n",
    "    toc: true\n",
    "---\n"
   ]
  },
  {
   "cell_type": "markdown",
   "metadata": {},
   "source": [
    "### Problem\n",
    "If you ever needed to check that dataframes are exactly equal in values, \n",
    "you might know it should not be done with regular `==` operator.\n",
    "The problem is in numpy, `np.nan == np.nan` gives `False`,\n",
    "and when you run something like \n"
   ]
  },
  {
   "cell_type": "code",
   "execution_count": 2,
   "metadata": {},
   "outputs": [
    {
     "data": {
      "text/plain": [
       "np.False_"
      ]
     },
     "execution_count": 2,
     "metadata": {},
     "output_type": "execute_result"
    }
   ],
   "source": [
    "import pandas as pd\n",
    "import numpy as np\n",
    "\n",
    "(\n",
    "    pd.Series([1,2,3, np.nan, 5]) == \n",
    "    pd.Series([1,2,3, np.nan, 5])\n",
    ").all()"
   ]
  },
  {
   "cell_type": "markdown",
   "metadata": {},
   "source": [
    "it compares values elementwise and eventually gives `False`.\n",
    "\n",
    "\n",
    "To try manually overcome this, with help of something like `.fillna(..)` - bad idea. You need different substitutors depending on dtype of the column,\n",
    "and with `pd.Categorical` dtype it's especially troublesome - you need to extend your list of categories first.\n"
   ]
  },
  {
   "cell_type": "markdown",
   "metadata": {},
   "source": [
    "Right way to do this is using of [`pd.equals(...)`](https://pandas.pydata.org/docs/reference/api/pandas.DataFrame.equals.html) (don't confuse with [`pd.eq(...)`](https://pandas.pydata.org/docs/reference/api/pandas.DataFrame.eq.html)!) or [assert_..._equal](https://pandas.pydata.org/docs/reference/api/pandas.testing.assert_frame_equal.html#pandas.testing.assert_frame_equal) in older versions of pandas:"
   ]
  },
  {
   "cell_type": "code",
   "execution_count": 3,
   "metadata": {},
   "outputs": [
    {
     "name": "stdout",
     "output_type": "stream",
     "text": [
      "True\n"
     ]
    }
   ],
   "source": [
    "print(\n",
    "    pd.Series([1,2,3, np.nan,5]).equals(\n",
    "        pd.Series([1,2,3, np.nan, 5])\n",
    "    )\n",
    ")\n",
    "\n",
    "pd.testing.assert_series_equal(\n",
    "    pd.Series([1,2,3, np.nan,5]),\n",
    "    pd.Series([1,2,3, np.nan, 5])\n",
    ")"
   ]
  },
  {
   "cell_type": "markdown",
   "metadata": {},
   "source": [
    "Keep in mind - usually you need to ignore columns order (it could have been reordered for some reason):"
   ]
  },
  {
   "cell_type": "code",
   "execution_count": 7,
   "metadata": {},
   "outputs": [
    {
     "name": "stdout",
     "output_type": "stream",
     "text": [
      "False\n",
      "True\n"
     ]
    }
   ],
   "source": [
    "df1 = pd.DataFrame({\n",
    "    'a': [1,2,np.nan],\n",
    "    'b': ['x','y','z']\n",
    "})\n",
    "df2 = pd.DataFrame({\n",
    "    'b': ['x','y','z'],\n",
    "    'a': [1,2,np.nan],\n",
    "})\n",
    "print(\n",
    "    pd.DataFrame.equals(\n",
    "        df1,\n",
    "        df2\n",
    "    )\n",
    ")\n",
    "# Output: False\n",
    "\n",
    "print(\n",
    "    pd.DataFrame.equals(\n",
    "        df1.sort_index(axis=1), \n",
    "        df2.sort_index(axis=1)\n",
    "    )\n",
    ")\n",
    "# Output: True"
   ]
  },
  {
   "cell_type": "markdown",
   "metadata": {},
   "source": [
    "### Utility function\n",
    "\n",
    "So, here's a final utility function which hopefully will save you some time:"
   ]
  },
  {
   "cell_type": "code",
   "execution_count": 19,
   "metadata": {},
   "outputs": [],
   "source": [
    "import pandas as pd\n",
    "\n",
    "def __sort_indices(df, ignore_rows_order=True):\n",
    "    # Columns sorting\n",
    "    df = df.sort_index(axis=1)\n",
    "\n",
    "    # Rows index sorting\n",
    "    if ignore_rows_order:\n",
    "        df = df.sort_index()\n",
    "\n",
    "    return df\n",
    "\n",
    "def is_df_eq(df1, df2, ignore_rows_order=True) -> bool:\n",
    "    df1 = __sort_indices(df1, ignore_rows_order=ignore_rows_order)\n",
    "    df2 = __sort_indices(df2, ignore_rows_order=ignore_rows_order)\n",
    "\n",
    "    return pd.DataFrame.equals(df1, df2)\n",
    "\n",
    "\n",
    "def print_equals_by_columns(df1: pd.DataFrame, df2, ignore_rows_order=True):\n",
    "    \"\"\"\n",
    "    Helps to identify which columns are not equal\n",
    "    \"\"\"\n",
    "\n",
    "    df1 = __sort_indices(df1, ignore_rows_order=ignore_rows_order)\n",
    "    df2 = __sort_indices(df2, ignore_rows_order=ignore_rows_order)\n",
    "        \n",
    "    if columns_diff := df1.columns.symmetric_difference(df2.columns).tolist():\n",
    "        print(\"Columns set is different:\", columns_diff)\n",
    "\n",
    "    print(\"Common columns equality:\")\n",
    "    for c in df1.columns.intersection(df2.columns):\n",
    "        print(c, ':', pd.Series.equals(\n",
    "            df1[c],\n",
    "            df2[c],\n",
    "        ))"
   ]
  },
  {
   "cell_type": "markdown",
   "metadata": {},
   "source": [
    "### Tests\n",
    "\n",
    "A bit of tests demonstrating the behaviour:"
   ]
  },
  {
   "cell_type": "code",
   "execution_count": 23,
   "metadata": {},
   "outputs": [
    {
     "name": "stdout",
     "output_type": "stream",
     "text": [
      "Is ['A', 'B'] equal?: True\n",
      "Is equal?: False\n",
      "Columns set is different: ['D']\n",
      "Common columns equality:\n",
      "A : True\n",
      "B : True\n",
      "C : False\n"
     ]
    }
   ],
   "source": [
    "#| label: Tests\n",
    "#| code-fold: true\n",
    "#| code-summary: Tests\n",
    "\n",
    "import numpy as np\n",
    "\n",
    "df1 = pd.DataFrame({\n",
    "    'ID': [1,2,3],\n",
    "    'A': [1,2,3],\n",
    "    'B': [1,2,np.nan],\n",
    "    'C': ['x', 'y', 'Z']\n",
    "}).set_index('ID')\n",
    "\n",
    "df2 = pd.DataFrame({\n",
    "    'ID': [1,2,3],\n",
    "    'A': [1,2,3],\n",
    "    'B': [1,2,np.nan],\n",
    "    'C': ['x', 'y', 'NOT_Z'],\n",
    "    'D': [0]*3\n",
    "}).set_index('ID')\n",
    "\n",
    "common_columns = ['A', 'B']\n",
    "print(\n",
    "    f\"Is {common_columns} equal?:\", \n",
    "    is_df_eq(df1[common_columns], df2[common_columns])\n",
    ")\n",
    "\n",
    "print(\n",
    "    \"Is equal?:\", is_df_eq(df1, df2)\n",
    ")\n",
    "print_equals_by_columns(df1, df2)\n",
    "\n"
   ]
  }
 ],
 "metadata": {
  "kernelspec": {
   "display_name": ".venv",
   "language": "python",
   "name": "python3"
  },
  "language_info": {
   "codemirror_mode": {
    "name": "ipython",
    "version": 3
   },
   "file_extension": ".py",
   "mimetype": "text/x-python",
   "name": "python",
   "nbconvert_exporter": "python",
   "pygments_lexer": "ipython3",
   "version": "3.11.5"
  }
 },
 "nbformat": 4,
 "nbformat_minor": 2
}
