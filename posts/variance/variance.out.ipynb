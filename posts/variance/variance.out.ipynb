{
  "cells": [
    {
      "cell_type": "markdown",
      "metadata": {},
      "source": [
        "#"
      ],
      "id": "ed24ecba-33b8-4baa-97be-a84c46706968"
    },
    {
      "cell_type": "raw",
      "metadata": {
        "raw_mimetype": "text/html"
      },
      "source": [
        "<!-- ---\n",
        "title: \"New Draft\"\n",
        "date: 2023-06-14\n",
        "categories: [draft,new]\n",
        "abstract: |\n",
        "  Several misconceptions presented,\n",
        "  including true ones\n",
        "\n",
        "#draft: true\n",
        "#image: thumbnail.webp\n",
        "\n",
        "\n",
        "format: \n",
        "  html:\n",
        "    toc: true\n",
        "--- -->"
      ],
      "id": "6d03c118-a31d-4e16-b426-f03fe0a5f76f"
    },
    {
      "cell_type": "markdown",
      "metadata": {},
      "source": [
        "Hello!! asdfas"
      ],
      "id": "b7951db9-b440-4248-9b8b-db21dad764f8"
    },
    {
      "cell_type": "code",
      "execution_count": 1,
      "metadata": {},
      "outputs": [],
      "source": [
        "01"
      ],
      "id": "cell-2"
    }
  ],
  "nbformat": 4,
  "nbformat_minor": 5,
  "metadata": {
    "kernelspec": {
      "name": "python3",
      "display_name": ".venv",
      "language": "python"
    },
    "language_info": {
      "name": "python",
      "codemirror_mode": {
        "name": "ipython",
        "version": "3"
      },
      "file_extension": ".py",
      "mimetype": "text/x-python",
      "nbconvert_exporter": "python",
      "pygments_lexer": "ipython3",
      "version": "3.11.5"
    }
  }
}